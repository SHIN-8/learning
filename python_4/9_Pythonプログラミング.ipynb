{
 "cells": [
  {
   "cell_type": "markdown",
   "metadata": {},
   "source": [
    "# 第9回 プログラミング入門\n",
    "## 目次\n",
    "- Whileによる繰り返し\n",
    "- 無限ループ\n",
    "- break文によるループの中断\n",
    "- continue文によるループのスキップ"
   ]
  },
  {
   "cell_type": "markdown",
   "metadata": {},
   "source": [
    "## whileによる繰り返し\n",
    "前回までに、プログラムの主な制御構造である順次・分岐の紹介をしました。今回は、最後の制御構造である反復処理について紹介します。\n",
    "\n",
    "反復とは、特定の条件が満たされている間、処理を繰り返す、という制御構造です。反復を命令するにはwhile文を使用し、特定の条件を記述するためには、if文と同様に条件式を指定します。\n",
    "\n",
    "while文の構造は\n",
    "\n",
    "```py\n",
    "while 条件式:\n",
    "    処理\n",
    "```\n",
    "\n",
    "のような形となります。\n",
    "\n",
    "例として、ユーザがfinishと入力されるまで、入力を繰り返すコードを見てみます。"
   ]
  },
  {
   "cell_type": "code",
   "execution_count": 1,
   "metadata": {},
   "outputs": [
    {
     "name": "stdout",
     "output_type": "stream",
     "text": [
      "お と入力されました。\n",
      "えｒｄふぇ と入力されました。\n",
      "finish と入力されました。\n",
      "終了しました\n"
     ]
    }
   ],
   "source": [
    "text = \"\" # text に初期値として \"\" を設定する\n",
    "\n",
    "while text != \"finish\": # text が \"finish\"ではない間、処理を繰り返す\n",
    "    # 文字を入力する\n",
    "    text = input(\"finishと入力してください:\")  # text に文字を読み込む\n",
    "    print(text, \"と入力されました。\")\n",
    "\n",
    "print(\"終了しました\")"
   ]
  },
  {
   "cell_type": "markdown",
   "metadata": {},
   "source": [
    "## 無限ループ"
   ]
  },
  {
   "cell_type": "markdown",
   "metadata": {},
   "source": [
    "無限ループ、という言葉は、非プログラマーの方でも一度は見聞きしたことがあるかと思います。\n",
    "無限ループは、条件式が恒等式(条件式を評価した結果が常に真となるとなる、たとえば1=1など)であるような繰り返しです。\n",
    "\n",
    "ループの繰り返し回数が定まっていない場合などに使用されることが多いです。"
   ]
  },
  {
   "cell_type": "code",
   "execution_count": null,
   "metadata": {},
   "outputs": [],
   "source": [
    "while True:\n",
    "    text = input()\n",
    "    print(text)"
   ]
  },
  {
   "cell_type": "markdown",
   "metadata": {},
   "source": [
    "## break文によるループの中断\n",
    "while 文によるループは指定した条件式が偽のときに終了しますが、それ以外でもループを終わらせたいときには`break`キーワードを使うことでループを中断することができます。\n",
    "\n",
    "例として、input関数で5回入力するか、入力が999のときにループを中断する処理を考えてみます。\n",
    "\n",
    "1. 入力した回数を保存する変数counterを用意し、counterを1で初期化する\n",
    "1. counterの値が5以下のとき、input関数でユーザ入力を促す\n",
    "1. ユーザ入力が999のときbreak文でループを中断する\n",
    "1. 3以外の場合、画面に数値を2乗した数値を表示する\n",
    "1. ループの回数が5回未満なら2〜４の処理を繰り返す\n",
    "\n",
    "上記の手順をpythonコードに落とし込むと次のようになります。"
   ]
  },
  {
   "cell_type": "code",
   "execution_count": null,
   "metadata": {},
   "outputs": [],
   "source": [
    "counter = 1 # 現在、何回目かを記録する変数\n",
    "\n",
    "while counter <= 5:  # counterの値が5以下なら繰り返す\n",
    "    text = input(\"数字を入力してください\")\n",
    "\n",
    "    # 入力された文字が '999' なら\n",
    "    if text == '999':\n",
    "        # ループを中断する\n",
    "        print(\"中断します\")\n",
    "        break\n",
    "\n",
    "    number = int(text) # 入力した文字列を数値に変換する\n",
    "    print(counter, \"回目:\", number * number) # 入力した数値の2乗を表示する\n",
    "    counter = counter + 1  # counter の値に 1 を加算する\n",
    "\n",
    "print(\"終了しました\")"
   ]
  },
  {
   "cell_type": "markdown",
   "metadata": {},
   "source": [
    "## continue文によるループのスキップ\n",
    "`break`文ではループを中断しましたが、特定の条件のときにスキップ（飛ばしたい）たいときには`continue`文を使います。\n",
    "\n",
    "例として、1~10までの数字のうち偶数のみを出力するプログラムを考えてみます。\n",
    "\n",
    "1. ループ回数を保存する変数iを用意し、iを0で初期化する\n",
    "1. iが10未満のとき、3~5の処理を繰り返す\n",
    "1. iを1増やす\n",
    "1. iが2の倍数でなければスキップ\n",
    "1. iが2の倍数のとき、iの値 is eventと出力する\n",
    "    - 1が2であれば、2 is eventと表示する\n",
    "\n",
    "上記の手順をpythonコードに落とし込むと次のようになります。"
   ]
  },
  {
   "cell_type": "code",
   "execution_count": null,
   "metadata": {},
   "outputs": [],
   "source": [
    "i = 0\n",
    "while i < 10:\n",
    "    i = i + 1\n",
    "\n",
    "    if (i % 2) == 1: # iを2で割った余りが1のとき\n",
    "        continue\n",
    "\n",
    "    print(i, \"is even.\") # 値を出力"
   ]
  },
  {
   "cell_type": "markdown",
   "metadata": {},
   "source": [
    "`break`のサンプルプログラムを改善して、数値以外のときには処理を実行しないように改善してみます。"
   ]
  },
  {
   "cell_type": "code",
   "execution_count": null,
   "metadata": {},
   "outputs": [],
   "source": [
    "counter = 1 # 現在、何回目かを記録する変数\n",
    "\n",
    "while counter <= 10:  # counterの値が10以下なら繰り返す\n",
    "    text = input(\"数字を入力してください\")\n",
    "    \n",
    "    # if 入力された文字が ''なら\n",
    "    if not text.isdecimal():\n",
    "        print(\"入力が無効です\")\n",
    "        # ループの先頭に戻る\n",
    "        continue\n",
    "\n",
    "    # 入力された文字が '999' なら\n",
    "    if text == '999':\n",
    "        # ループを中断する\n",
    "        print(\"中断します\")\n",
    "        break\n",
    "\n",
    "    number = int(text) # 入力した文字列を数値に変換する\n",
    "    print(counter, \"回目:\", number * number) # 入力した数値の2乗を表示する\n",
    "    counter = counter + 1  # counter の値に 1 を加算する\n",
    "\n",
    "print(\"終了しました\")"
   ]
  },
  {
   "cell_type": "markdown",
   "metadata": {},
   "source": [
    "## 練習問題"
   ]
  },
  {
   "cell_type": "markdown",
   "metadata": {},
   "source": [
    "1. Hello Pythonを10回表示してください。"
   ]
  },
  {
   "cell_type": "code",
   "execution_count": 7,
   "metadata": {},
   "outputs": [
    {
     "name": "stdout",
     "output_type": "stream",
     "text": [
      "Hello Python\n",
      "Hello Python\n",
      "Hello Python\n",
      "Hello Python\n",
      "Hello Python\n",
      "Hello Python\n",
      "Hello Python\n",
      "Hello Python\n",
      "Hello Python\n",
      "Hello Python\n"
     ]
    }
   ],
   "source": [
    "counter = 1\n",
    "\n",
    "while counter <= 10:\n",
    "    print(\"Hello Python\")\n",
    "    counter = counter + 1"
   ]
  },
  {
   "cell_type": "markdown",
   "metadata": {},
   "source": [
    "2. ユーザーから3回整数の入力を受け取り、ユーザが入力した整数の合計を表示してください"
   ]
  },
  {
   "cell_type": "code",
   "execution_count": 8,
   "metadata": {},
   "outputs": [
    {
     "name": "stdout",
     "output_type": "stream",
     "text": [
      "13\n"
     ]
    }
   ],
   "source": [
    "counter = 1\n",
    "total = 0\n",
    "while counter <= 3:\n",
    "    x = int(input(\"整数を入力してください。\"))\n",
    "    total = total + x\n",
    "    counter = counter + 1\n",
    "print(total)"
   ]
  },
  {
   "cell_type": "markdown",
   "metadata": {},
   "source": [
    "3. フィボナッチ数列の第5項までを出力してください。\n",
    "\n",
    "フィボナッチ数列は、次の漸化式で定義される。数列です。\n",
    "1. $a_1 = a_{2}$ = 1\n",
    "2. $a_{n+2}=a_{n+1}+a_{n}$\n",
    "\n",
    "第1項と第2項は１\n",
    "第3項からは、1つ前と2つ前の項を足したものです。例えば、フィボナッチ数列の3項目までの出力は\n",
    "\n",
    "1 1 2 となります。"
   ]
  },
  {
   "cell_type": "code",
   "execution_count": 16,
   "metadata": {},
   "outputs": [
    {
     "name": "stdout",
     "output_type": "stream",
     "text": [
      "1\n",
      "1\n",
      "2\n",
      "3\n",
      "5\n",
      "8\n"
     ]
    }
   ],
   "source": [
    "a_n = 1\n",
    "print(a_n)\n",
    "\n",
    "a_n1 = 1\n",
    "print(a_n1)\n",
    "\n",
    "a_n2 = a_n1 + a_n\n",
    "print(a_n2)\n",
    "\n",
    "counter = 1\n",
    "while counter <= 3:\n",
    "    a_n = a_n1\n",
    "    a_n1 = a_n2\n",
    "    a_n2 = a_n1 + a_n\n",
    "    print(a_n2)\n",
    "    counter = counter +1"
   ]
  },
  {
   "cell_type": "markdown",
   "metadata": {},
   "source": [
    "4. ユーザから整数を受け取って、2進数へ変換するプログラムを作成して下さい\n",
    "\n",
    " 10進数から2進数への変換は次の手順で行います。\n",
    "1. 10進数を2で割る\n",
    "1. 1.で割った余りを前に並べる\n",
    "1. 商が0になるまで1~2の手順を繰り返す"
   ]
  },
  {
   "cell_type": "code",
   "execution_count": 17,
   "metadata": {},
   "outputs": [
    {
     "name": "stdout",
     "output_type": "stream",
     "text": [
      "1001110\n"
     ]
    }
   ],
   "source": [
    "decimal = int(input(\"10進数で整数を入力してください\"))\n",
    "result = \"\"\n",
    "\n",
    "while True:\n",
    "    digit = decimal % 2\n",
    "    result = str(digit) + result\n",
    "    decimal = decimal // 2\n",
    "    if decimal ==0:\n",
    "        break\n",
    "print(result)"
   ]
  }
 ],
 "metadata": {
  "interpreter": {
   "hash": "31f2aee4e71d21fbe5cf8b01ff0e069b9275f58929596ceb00d14d90e3e16cd6"
  },
  "kernelspec": {
   "display_name": "Python 3.6.9 64-bit",
   "language": "python",
   "name": "python3"
  },
  "language_info": {
   "codemirror_mode": {
    "name": "ipython",
    "version": 3
   },
   "file_extension": ".py",
   "mimetype": "text/x-python",
   "name": "python",
   "nbconvert_exporter": "python",
   "pygments_lexer": "ipython3",
   "version": "3.8.9"
  },
  "orig_nbformat": 4
 },
 "nbformat": 4,
 "nbformat_minor": 2
}
