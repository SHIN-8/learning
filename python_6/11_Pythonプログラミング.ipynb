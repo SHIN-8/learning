{
 "cells": [
  {
   "cell_type": "markdown",
   "metadata": {},
   "source": [
    "# 第11回 プログラミング入門\n",
    "## 目次\n",
    "- 実践的なプログラムの作り方\n",
    "- Redmineの事故情報を集計する\n"
   ]
  },
  {
   "cell_type": "markdown",
   "metadata": {},
   "source": [
    "## 実践的なプログラムの作り方\n",
    "これまでに、変数や制御構造の作り方を見てきました。また、その過程で、演習問題に回答してもらいました。\n",
    "\n",
    "演習問題では、与えられた問題に対して正しく動くように修正してきましたが、実際のプログラムの作り方は、それとは異なります。\n",
    "\n",
    "プログラムは前提として、コンピュータにやらせたいことがあって、`やりたいことがコンピュータでできるように命令`ことが必要です。そのため、まず「なにをしたいか」を明確にする作業が必要になってきます。これを専門用語で`要件定義`と呼びます。\n",
    "\n",
    "要件定義を行う最も簡便な方法は、日本語でコンピュータにやらせたいことを順序立てて書き出していくことです。\n",
    "\n",
    "書き出す作業で大事なポイントは、`曖昧さをなくす`ということが大事です。コンピュータは曖昧なことは苦手なので、曖昧さをなくしてやることが肝要です。\n",
    "\n",
    "フォルダ内にあるRedmineから抽出してきた`jiko_ichiran.xlsx`から事故金額が最も大きいものを出力することを考えます\n",
    "\n",
    "![redmine](images/redmine.png)\n",
    "\n",
    "例えば、次のようなものはあまり良くないです"
   ]
  },
  {
   "cell_type": "markdown",
   "metadata": {},
   "source": [
    " 1. エクセルのデータを読み込む\n",
    " 2. シート１に記載されているカラムを集計する\n",
    " 3. 結果をコンソールに出す"
   ]
  },
  {
   "cell_type": "markdown",
   "metadata": {},
   "source": [
    "これを曖昧さをなくして記述すると次のようなイメージになります。"
   ]
  },
  {
   "cell_type": "markdown",
   "metadata": {},
   "source": [
    "1. jiko_ichiran.xlsxファイルを開く\n",
    "2. xlsxファイル内にある、事故金額が最も大きいものを計算する\n",
    "3. ファイル内の最も大きい事故金額をコンソールに出力する"
   ]
  },
  {
   "cell_type": "code",
   "execution_count": 1,
   "metadata": {},
   "outputs": [
    {
     "name": "stdout",
     "output_type": "stream",
     "text": [
      "最大事故金額は 653290 です\n"
     ]
    }
   ],
   "source": [
    "import openpyxl\n",
    "\n",
    "#jiko_ichiran.xlsxファイルを開く\n",
    "wb = openpyxl.load_workbook('jiko_ichiran.xlsx')\n",
    "ws = wb['incident_list']\n",
    "\n",
    "max_kingaku = 0  #最大事故金額を保存する変数\n",
    "row = 2          #事故金額を取得する行\n",
    "while row < 500:\n",
    "    #5列目に事故金額のセルがあるので、行を更新しながら事故金額を取得する\n",
    "    #valueは文字列なので整数に変換\n",
    "    kingaku = int(ws.cell(row=row, column=5).value)\n",
    "\n",
    "    #最大事故金額より大きいか判定\n",
    "    if max_kingaku < kingaku:\n",
    "        max_kingaku = kingaku\n",
    "    row = row + 1\n",
    "\n",
    "print(\"最大事故金額は\", max_kingaku, \"です\")"
   ]
  },
  {
   "cell_type": "markdown",
   "metadata": {},
   "source": [
    "## 99の件数をカウントする\n",
    "先程の例を変更して、99の情報を集計するプログラムを書いてみましょう\n",
    "\n",
    "1. ターミナルからファイル名を受け取って、指定されたxlsxファイルを開く\n",
    "2. xlsxファイル内にある、トラッカーが99の件数をカウントする\n",
    "3. 99の件数をコンソールに出力する"
   ]
  },
  {
   "cell_type": "code",
   "execution_count": 2,
   "metadata": {},
   "outputs": [
    {
     "name": "stdout",
     "output_type": "stream",
     "text": [
      "99の件数は 217 件です\n"
     ]
    }
   ],
   "source": [
    "import openpyxl\n",
    "\n",
    "file_name = input(\"xlsxファイル名を入力してください。\")\n",
    "\n",
    "#jiko_ichiran.xlsxファイルを開く\n",
    "wb = openpyxl.load_workbook(filename=file_name)\n",
    "ws = wb.active\n",
    "\n",
    "count = 0  #最大事故金額を保存する変数\n",
    "row = 2         #事故金額を取得する行\n",
    "while row < 500:\n",
    "    #トラッカーが99か判定する\n",
    "    tracker = ws.cell(row=row, column=2).value\n",
    "    if not tracker == \"【99】\":\n",
    "        row = row + 1\n",
    "        continue\n",
    "    row = row + 1\n",
    "    count = count + 1\n",
    "    \n",
    "\n",
    "\n",
    "print(\"99の件数は\", count, \"件です\")"
   ]
  },
  {
   "cell_type": "markdown",
   "metadata": {},
   "source": [
    "## 99の自己金額の最大・最小・平均を求める\n",
    "\n",
    "1. ターミナルからファイル名を受け取って、指定されたxlsxファイルを開く\n",
    "2. xlsxファイル内にある、トラッカーが99で、事故金額の最大・最小・平均を計算する\n",
    "3. 事故金額の最大・最小・平均をコンソールに出力する"
   ]
  },
  {
   "cell_type": "code",
   "execution_count": null,
   "metadata": {},
   "outputs": [],
   "source": [
    "import openpyxl\n",
    "\n",
    "file_name = input(\"xlsxファイル名を入力してください。\")\n",
    "\n",
    "#xlsxファイルを開く\n",
    "wb = openpyxl.load_workbook(filename=file_name)\n",
    "ws = wb.active\n",
    "\n",
    "count  = 0        # 99の件数をカウントする変数\n",
    "total_kingaku = 0  # 平均事故金額を保存する変数\n",
    "max_kingaku = 0      # 最大事故金額を保存する変数\n",
    "min_kingaku = 0      # 最小事故金額を保存する変数\n",
    "row = 2              # 事故金額を取得する行\n",
    "\n",
    "\n",
    "while row < 500:\n",
    "    #トラッカーが99か判定する\n",
    "    tracker = ws.cell(row=row, column=2).value\n",
    "    if not tracker == \"【99】\":\n",
    "        row = row + 1\n",
    "        continue\n",
    "\n",
    "    ## 99の件数を増やす\n",
    "    count = count + 1\n",
    "\n",
    "    #5列目に事故金額のセルがあるので、行を更新しながら事故金額を取得する\n",
    "    value = ws.cell(row=row, column=5).value\n",
    "\n",
    "    #valueは文字列なので整数に変換\n",
    "    kingaku = int(value)\n",
    "\n",
    "    #合計事故金額を計算する\n",
    "    total_kingaku = total_kingaku + kingaku\n",
    "\n",
    "    #最大事故金額より大きいか判定\n",
    "    if max_kingaku < kingaku:\n",
    "        max_kingaku = kingaku\n",
    "    #最小事故金額より大きいか判定\n",
    "    if min_kingaku > kingaku:\n",
    "        min_kingaku = kingaku\n",
    "    row = row + 1\n",
    "    \n",
    "\n",
    "#コンソールに表示する\n",
    "print(\"99の件数は\", count, \"件です\")\n",
    "print(\"平均事故金額は\", total_kingaku / count)\n",
    "print(\"最大事故金額は\", max_kingaku)\n",
    "print(\"最小事故金額は\", min_kingaku)"
   ]
  },
  {
   "cell_type": "markdown",
   "metadata": {},
   "source": [
    "## プログラムを配布する\n",
    "プログラムが意図通り動くようになったら配布して他の人にも使えるようにすると良いと思います。\n",
    "\n",
    "macOSであればAutomatorというプログラムがプリインストールされているので、こちらを使うとかんたんです\n",
    "\n",
    "Automatorはその名前の通り、自動化用のツールです。\n",
    "\n",
    "今回は先に作成した、99の件数・自己金額の平均・最大・最小を出力するPythonプログラムをautomatorで自動化します。Pythonのプログラムは別途配布が必要ですが、これを使うとコンソールからの操作が不要になるので是非活用してみて下さい。\n",
    "\n",
    "Automatorを起動すると次のような画面になるのでアプリケーションを選択します。\n",
    "\n",
    "![automator-1](images/automator-1.png)\n",
    "\n",
    "Automatorで`シェル`と検索をかけると次のように`シェルスクリプトを実行する`フローがでてくるので、これを右のパネルのドラッグアンドドロップします。\n",
    "\n",
    "![automator-2](images/automator-2.png)\n",
    "\n",
    "\n",
    "```sh\n",
    "python3 スクリプト名 > result.txt\n",
    "```\n",
    "\n",
    "などとしておきます。"
   ]
  },
  {
   "cell_type": "markdown",
   "metadata": {},
   "source": [
    "## 最後に\n",
    "プログラミングで重要な概念は一通り説明してきたつもりですが、時間の関係で丁寧に説明できなかったところも多々あります。\n",
    "\n",
    "プログラミングは書いた数が大事です。udemyやyoutubeのチャンネル、練習サイトなど現在のプログラミング学習環境は以前に比べて格段に良くなっています。\n",
    "\n",
    "興味を持った人は練習サイトなどで練習をしてみてください。\n",
    "\n"
   ]
  },
  {
   "cell_type": "markdown",
   "metadata": {},
   "source": []
  }
 ],
 "metadata": {
  "interpreter": {
   "hash": "31f2aee4e71d21fbe5cf8b01ff0e069b9275f58929596ceb00d14d90e3e16cd6"
  },
  "kernelspec": {
   "display_name": "Python 3.6.9 64-bit",
   "language": "python",
   "name": "python3"
  },
  "language_info": {
   "codemirror_mode": {
    "name": "ipython",
    "version": 3
   },
   "file_extension": ".py",
   "mimetype": "text/x-python",
   "name": "python",
   "nbconvert_exporter": "python",
   "pygments_lexer": "ipython3",
   "version": "3.9.7"
  },
  "orig_nbformat": 4
 },
 "nbformat": 4,
 "nbformat_minor": 2
}
