{
 "cells": [
  {
   "cell_type": "markdown",
   "metadata": {},
   "source": [
    "# 第10回 プログラミング入門\n",
    "## 目次\n",
    "- 関数\n",
    "- 値を返す\n",
    "- パッケージを利用する\n",
    "- openpyxlを使う"
   ]
  },
  {
   "cell_type": "markdown",
   "metadata": {},
   "source": [
    "## 関数\n",
    "これまでに、Pythonに標準で用意されている`int`関数や`input`関数の使い方を紹介してきました。\n",
    "\n",
    "これらの関数は、Pythonの実行環境にすでに用意されているものです。関数は、用意されたものを使うだけでなく、自分で定義することもできます。関数の定義は、\n",
    "\n",
    "```py\n",
    "def 関数名(仮引数)\n",
    "    処理...\n",
    "```\n",
    "\n",
    "のような形となります。\n",
    "\n",
    "例として、ユーザ入力をオウム返しする`echo`関数を書いてみましょう。"
   ]
  },
  {
   "cell_type": "code",
   "execution_count": 2,
   "metadata": {},
   "outputs": [
    {
     "name": "stdout",
     "output_type": "stream",
     "text": [
      "test\n"
     ]
    }
   ],
   "source": [
    "def echo(message):\n",
    "    print(message)\n",
    "\n",
    "message = input('メッセージを入力してください。')\n",
    "echo (message)"
   ]
  },
  {
   "cell_type": "markdown",
   "metadata": {},
   "source": [
    "## 値を返す\n",
    "先程の例では、入力を取って引数を返す関数です。ではa+bを計算するadd関数を考えてみます。"
   ]
  },
  {
   "cell_type": "code",
   "execution_count": 8,
   "metadata": {},
   "outputs": [
    {
     "name": "stdout",
     "output_type": "stream",
     "text": [
      "None\n"
     ]
    }
   ],
   "source": [
    "def add(a, b):\n",
    "    result = a + b\n",
    "\n",
    "a = int(input('aを入力してください'))\n",
    "b = int(input('bを入力してください'))\n",
    "\n",
    "result = add(a, b)\n",
    "print(result)"
   ]
  },
  {
   "cell_type": "markdown",
   "metadata": {},
   "source": [
    "このaddはそのままでは動きません。なぜなら、add関数の中で計算した結果をaddの呼び出し元に返していないからです。関数から値を戻すには、`return`文を使います。"
   ]
  },
  {
   "cell_type": "code",
   "execution_count": 10,
   "metadata": {},
   "outputs": [
    {
     "name": "stdout",
     "output_type": "stream",
     "text": [
      "20\n"
     ]
    }
   ],
   "source": [
    "def add(a, b):\n",
    "    result = a + b\n",
    "    return result\n",
    "\n",
    "a = int(input('aを入力してください'))\n",
    "b = int(input('bを入力してください'))\n",
    "\n",
    "result = add(a, b)\n",
    "print(result)"
   ]
  },
  {
   "cell_type": "markdown",
   "metadata": {},
   "source": [
    "## パッケージ\n",
    "これまでに、関数の使い方と定義を見てきました。すでに他の方が作った関数が呼び出せると便利ですよね。誰かが定義した関数の集まりを利用するための仕組みを`パッケージ`と呼びます。\n",
    "\n",
    "今回はPythonでXLSX形式のファイルを扱っていくので`openpyxl`というパッケージを扱います。\n",
    "\n",
    "ターミナルで次のコマンドを実行すると、openpyxlがインストールされます。"
   ]
  },
  {
   "cell_type": "markdown",
   "metadata": {},
   "source": [
    "```sh\n",
    "$pip3 install openpyxl\n",
    "```"
   ]
  },
  {
   "cell_type": "markdown",
   "metadata": {},
   "source": [
    "ではこのopenpyxlを実際に使っていきましょう。"
   ]
  },
  {
   "cell_type": "markdown",
   "metadata": {},
   "source": [
    "## エクセルファイルについて\n",
    "openpyxlをつかってXLS形式のファイルを扱う前に、エクセルファイルの用語について確認しておきます。\n",
    "\n",
    "![xlsx](./images/xlsx.png)\n",
    "\n",
    "エクセルは表計算ツールの一種で、表の形でデータを扱います。表の１つ１つのマス目のことを`セル`と呼びます。\n",
    "\n",
    "マス目が集まって1つの表を構成していますが、ファイルの中のひょうのことを`ワークシート`（または単にシート）と呼びます。\n",
    "\n",
    "ワークシートを複数束ねたものを`ワークブック`（または単にブック）と呼びます。"
   ]
  },
  {
   "cell_type": "markdown",
   "metadata": {},
   "source": [
    "## ワークブックの操作\n",
    "### ワークブックの新規作成\n",
    "ワークブックは、xlsx形式のファイルのことです。まずは、pythonのプログラムからxlsxファイルを作成してみましょう。\n",
    "\n",
    "ワークブックを新規作成するには、新しくWorkbookのオブジェクトを作り、`save`メソッドを使用します。\n",
    "\n",
    "次のコードを実行すると、実行フォルダ配下にmyworkbokk.xlsxが作成されます。"
   ]
  },
  {
   "cell_type": "code",
   "execution_count": 1,
   "metadata": {},
   "outputs": [],
   "source": [
    "import openpyxl\n",
    "\n",
    "wb = openpyxl.Workbook()\n",
    "wb.save('myworkbook.xlsx')"
   ]
  },
  {
   "cell_type": "markdown",
   "metadata": {},
   "source": [
    "__【補足１】__\n",
    "\n",
    "これまでの解説では時間の都合で、扱っていませんが、オブジェクトとメソッドについてかんたんに解説しておきます。\n",
    "\n",
    "オブジェクトは、プログラミングする人が独自に定義する型のことで、変数と関数の集まりと思っていただければ構いません。\n",
    "\n",
    "```py\n",
    "import openpyxl             /*← ①openpyxlのパッケージを読み込む*/\n",
    "\n",
    "wb = openpyxl.Workbook()    /*← ②openpyxlのパッケージに用意されている Workbookクラスを作る*/\n",
    "wb.save('myworkbook.xlsx')  /*← ③Workbookクラスに用意されているsaveメソッドを呼び出す*/\n",
    "```"
   ]
  },
  {
   "cell_type": "markdown",
   "metadata": {},
   "source": [
    "### ワークブックの読み込み\n",
    "既存のワークブックをロードするには、`load_workbook`関数を使用します。"
   ]
  },
  {
   "cell_type": "code",
   "execution_count": 23,
   "metadata": {},
   "outputs": [],
   "source": [
    "import openpyxl\n",
    "\n",
    "wb = openpyxl.load_workbook('myworkbook.xlsx')"
   ]
  },
  {
   "cell_type": "markdown",
   "metadata": {},
   "source": [
    "## ワークシートの操作\n",
    "### ワークシートの取得\n",
    "ワークシートを取得するには、load_workbook関数で既存のエクセルファイルを読み取って、ワークシートの名前を指定することで取得できます。"
   ]
  },
  {
   "cell_type": "code",
   "execution_count": 30,
   "metadata": {},
   "outputs": [
    {
     "name": "stdout",
     "output_type": "stream",
     "text": [
      "sheet name: ３\n"
     ]
    }
   ],
   "source": [
    "import openpyxl\n",
    "\n",
    "wb = openpyxl.load_workbook('myworkbook.xlsx')\n",
    "\n",
    "ws = wb.active   # ワークシートを指定\n",
    "print(f'sheet name: {ws.title}')  # sheet name: Sheet"
   ]
  },
  {
   "cell_type": "markdown",
   "metadata": {},
   "source": [
    "あるいは、\n",
    "\n",
    "```py\n",
    "ws = wb['Sheet']  # ワークシートを指定\n",
    "```\n",
    "\n",
    "のところを、\n",
    "\n",
    "```py\n",
    "ws = wb.active  # アクティブなワークシートを選択\n",
    "```\n",
    "\n",
    "とすることでアクティブなワークシートを開くことができます。"
   ]
  },
  {
   "cell_type": "markdown",
   "metadata": {},
   "source": [
    "__【補足２】__\n",
    "\n",
    "補足１と同様にこれまでの解説では時間の都合で、扱っていませんが、辞書オブジェクト（連想配列）についてかんたんに解説します。\n",
    "\n",
    "これまで数値や文字列などの使い方を学んできましたが、個別の値ひとつひとつではなく、キー処理したいということもよくあります。\n",
    "\n",
    "このキーと値を複数まとめたデータを`辞書オブジェクト`と呼びます。\n",
    "\n",
    "`辞書オブジェクト`を定義するには、次のようにします。\n",
    "\n",
    "```py\n",
    "変数名 = {キー1:値1, キー2:値2, ...}\n",
    "```\n",
    "\n",
    "例えば、英単語の辞書オブジェクトを作成するには次のようにします。\n",
    "\n",
    "```py\n",
    "words = {\"apple\":\"りんご\", \"orange\":\"みかん\", \"peach\":\"もも\"}\n",
    "```\n",
    "\n",
    "辞書オブジェクトのデータにアクセスするには、キーを使うことで対応する値が取れます。\n",
    "\n",
    "```py\n",
    "変数名[\"キー名\"]\n",
    "```\n",
    "\n",
    "たとえば先の変数wordsから\"apple\"を取得するには\n",
    "\n",
    "```py\n",
    "words[\"apple\"]\n",
    "```\n",
    "\n",
    "とします。同様に、先程の例のSheet名がSheetとなっているワークシートを取得する、という意味になります。\n",
    "\n",
    "```py\n",
    "ws = wb['Sheet']  # ワークシートを指定\n",
    "```"
   ]
  },
  {
   "cell_type": "markdown",
   "metadata": {},
   "source": [
    "## セルの操作\n",
    "\n",
    "### セルに書き込み\n",
    "\n",
    "セルへ書き込みをするには、ワークシートの`cell`メソッドを使い、行番号と列番号を指定してvalueに変数を入れて保存します。"
   ]
  },
  {
   "cell_type": "code",
   "execution_count": 26,
   "metadata": {},
   "outputs": [],
   "source": [
    "import openpyxl\n",
    "\n",
    "wb = openpyxl.load_workbook('myworkbook.xlsx')\n",
    "\n",
    "ws = wb.active\n",
    "\n",
    "ws.cell(column=1, row=1).value = \"こんにちは\" # アクティブなワークシートの１行目１列のセルのvalueに\"こんにちは\"\n",
    "\n",
    "wb.save('myworkbook.xlsx') # 書き込んだ内容を保存\n"
   ]
  },
  {
   "cell_type": "markdown",
   "metadata": {},
   "source": [
    "### セルを読み込む\n",
    "\n",
    "セルを読み込むときは、ワークシートの`cell`メソッドを使い、行番号と列番号を指定してvalueに悪世することでセルのデータを読み込めます。"
   ]
  },
  {
   "cell_type": "code",
   "execution_count": 27,
   "metadata": {},
   "outputs": [
    {
     "name": "stdout",
     "output_type": "stream",
     "text": [
      "こんにちは\n"
     ]
    }
   ],
   "source": [
    "import openpyxl\n",
    "\n",
    "wb = openpyxl.load_workbook('myworkbook.xlsx')\n",
    "\n",
    "ws = wb.active\n",
    "\n",
    "print(ws.cell(column=1, row=1).value)\n"
   ]
  }
 ],
 "metadata": {
  "interpreter": {
   "hash": "31f2aee4e71d21fbe5cf8b01ff0e069b9275f58929596ceb00d14d90e3e16cd6"
  },
  "kernelspec": {
   "display_name": "Python 3.6.9 64-bit",
   "language": "python",
   "name": "python3"
  },
  "language_info": {
   "codemirror_mode": {
    "name": "ipython",
    "version": 3
   },
   "file_extension": ".py",
   "mimetype": "text/x-python",
   "name": "python",
   "nbconvert_exporter": "python",
   "pygments_lexer": "ipython3",
   "version": "3.9.7"
  },
  "orig_nbformat": 4
 },
 "nbformat": 4,
 "nbformat_minor": 2
}
