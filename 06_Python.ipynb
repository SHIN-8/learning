{
 "cells": [
  {
   "cell_type": "markdown",
   "metadata": {},
   "source": [
    "# 第6回 プログラミング入門\n",
    "\n",
    "---\n",
    "\n",
    "## 目次\n",
    "\n",
    "- イントロダクション\n",
    "  - 本日の目標\n",
    "- Pythonのプログラミング環境の構築\n",
    "  - Visual Studio Codeの使い方\n",
    "  - Jupyter Notebook の使い方\n",
    "- Pythonについて\n",
    "  - Pythonプログラムの構造\n",
    "  - 変数と演算\n",
    "- サンプル問題\n",
    "- 練習問題"
   ]
  },
  {
   "cell_type": "markdown",
   "metadata": {},
   "source": [
    "## Python プログラミング環境の構築"
   ]
  },
  {
   "cell_type": "markdown",
   "metadata": {},
   "source": [
    "### Visual Studio Code の使い方\n",
    "### 画面の構成\n",
    "![](06_Pythonプログラミング入門.assets/vscode-1.png)\n",
    "\n",
    "![](06_Pythonプログラミング入門.assets/vscode-2.png)\n",
    "\n",
    "![](06_Pythonプログラミング入門.assets/vscode-3.png)\n",
    "\n",
    "![](06_Pythonプログラミング入門.assets/vscode-4.png)\n",
    "\n",
    "### 基本的な操作\n",
    "- ファイル編集\n",
    "- コマンドパレット\n",
    "\n",
    "### 拡張機能のインストール\n",
    "\n",
    "Python拡張をインストールします。\n",
    "\n",
    "![](06_Pythonプログラミング入門.assets/vscode-6.png)\n",
    "\n"
   ]
  },
  {
   "cell_type": "markdown",
   "metadata": {},
   "source": [
    "### Jupyter Notebookの使い方\n",
    "Jupyter Notebookは、PythonなどのプログラムをWebブラウザ上で編集・実行できる環境です。\n",
    "\n",
    "コードと一緒にMarkdownでドキュメントが記述できるのが特徴で、データの可視化や機械学習の分野に使われることが多いです。コード書きながら説明を付け加えていけるので、自己学習には最適です。\n",
    "\n",
    "## 画面構成\n",
    "\n",
    "![](./06_Pythonプログラミング入門.assets/jupyter-1.png)\n",
    "\n",
    "## Jupyterを使う\n",
    "1. ノートの作成\n",
    "2. ノートにコードを書いて実行する\n",
    "3. ノートにドキュメント書く\n"
   ]
  },
  {
   "cell_type": "markdown",
   "metadata": {},
   "source": [
    "## Pythonについて"
   ]
  },
  {
   "cell_type": "markdown",
   "metadata": {},
   "source": [
    "### Python言語とは\n",
    "Pythonは、Guido van Rossum氏が開発したプログラミング言語です。\n",
    "\n",
    "現在ではPythonは、初心者から職業プログラマーまでに広く使われており、機械学習だけではなく、Webアプリやコマンドラインなどの開発に使われています。\n",
    "\n",
    "Pythonの特徴としては\n",
    "\n",
    "- シンプルで覚えることが少ない構文\n",
    "- 1行で多くの処理を記述可能\n",
    "- 標準ライブラリとして、言語に多くの機能が用意されている\n",
    "- さらに幅広い用途に使えるPython向け外部ライブラリが豊富に存在している"
   ]
  },
  {
   "cell_type": "markdown",
   "metadata": {},
   "source": [
    "### Pythonプログラムの構造\n",
    "\n",
    "Pythonプログラムの基本的な構造は、次のようになっています。\n",
    "\n",
    "```py\n",
    "def echo(message):\n",
    "    \"\"\"\n",
    "    メッセージを出力します\n",
    "    \n",
    "    Args:\n",
    "        message: メッセージ文字列\n",
    "\n",
    "    Returns:\n",
    "        None\n",
    "\n",
    "    Raises:\n",
    "        No Throw any Exceptions\n",
    "    \n",
    "    \"\"\"\n",
    "    print(message)\n",
    "\n",
    "if __name__ == '__main__':\n",
    "    message = input('Please input a message')\n",
    "    count = 0\n",
    "    while (count < 3):\n",
    "        echo(message)\n",
    "        count++\n",
    "```"
   ]
  },
  {
   "cell_type": "markdown",
   "metadata": {},
   "source": [
    "1つずつ見ていきます。\n",
    "\n",
    "1行目の `def echo(message):` は、 __関数定義__ となります。数学で言う関数とは異なり、プログラミングの文脈ではプログラムを構成する部品を１つの処理にまとめたものになります。\n",
    "\n",
    "関数の基本構造は\n",
    "\n",
    "```py\n",
    "def 関数名(引数):\n",
    "    処理本体\n",
    "```\n",
    "\n",
    "となります。関数の中の具体的な処理は、１段落（インデント）字下げをしてから、コーディングします。コードのひとかたまりを __コードブロック__ といいますが、Pythonでは字下げ位置が同じ位置のコードが1つのコードブロックになります。\n",
    "\n",
    "関数のもう少し詳しい説明については、再来週以降に扱います。現段階では、処理をまとめたものとしてひとまず理解してください。"
   ]
  },
  {
   "cell_type": "markdown",
   "metadata": {},
   "source": [
    "2行目以降の\n",
    "\n",
    "```py\n",
    "    \"\"\"\n",
    "    メッセージを出力します\n",
    "    \n",
    "    Args:\n",
    "        message: メッセージ文字列\n",
    "\n",
    "    Returns:\n",
    "        None\n",
    "\n",
    "    Raises:\n",
    "        No Throw any Exceptions\n",
    "    \n",
    "    \"\"\"\n",
    "```\n",
    "の部分は、 __DocString__ と呼ばれる。特殊なテキストデータになります。\n",
    "\n",
    "環境構築のところで、Pythonの拡張を入れてもらいましたが、 echoのところにマウスオーバーすると説明がポップアップしてくると思います。\n",
    "\n",
    "__DocString__ を書くことにより、エディタなどで処理の説明などが表示されるようになります。"
   ]
  },
  {
   "cell_type": "markdown",
   "metadata": {},
   "source": [
    "DocStringの下にある\n",
    "\n",
    "```py\n",
    "    print(message)\n",
    "```\n",
    "\n",
    "がecho関数の本体です。print関数はpythonに予め用意されている関数で、標準出力（ターミナルなど）に文字や数値を出力する関数です。"
   ]
  },
  {
   "cell_type": "markdown",
   "metadata": {},
   "source": [
    "printの次の行にあるのが\n",
    "\n",
    "```py\n",
    "if __name__ == '__main__':\n",
    "```\n",
    "\n",
    "if文と呼ばれる条件分岐の命令です。条件によって処理を分ける際に使用します。\n"
   ]
  },
  {
   "cell_type": "markdown",
   "metadata": {},
   "source": [
    "```py\n",
    "    message = input('Please input a message')\n",
    "```\n",
    "\n",
    "input関数で標準入力（ターミナルからの入力）から読み込みをして、ユーザが入力したデータを変数messageへ入れます\n",
    "\n",
    "変数とは、プログラムの計算結果を格納するもので格納できるデータには文字列・数値・コレクション（辞書・リスト）やオブジェクトなどがあります。\n",
    "\n",
    "変数と計算方法については、後ほど説明します。"
   ]
  },
  {
   "cell_type": "markdown",
   "metadata": {},
   "source": [
    "```py\n",
    "   count = 0\n",
    "    while (count < 3):\n",
    "        echo(message)\n",
    "        count = count + 1\n",
    "```\n",
    "\n",
    "ここでは、新しく変数countを用意し、countが3より小さい間標準出力への出力を繰り返します。"
   ]
  },
  {
   "cell_type": "markdown",
   "metadata": {},
   "source": [
    "### 変数と算術演算\n",
    "- 変数の宣言と演算について説明します。"
   ]
  },
  {
   "cell_type": "markdown",
   "metadata": {},
   "source": [
    "#### 変数とは\n",
    "\n",
    "変数は、コンピュータに計算をさせるために、数値などのデータを格納するための箱のようなものです。はじめは箱の中に何もありませんが、変数に値を入れる（代入するといいます）ことで、変数にデータを格納することができます\n",
    "\n",
    "![](06_Pythonプログラミング入門.assets/variable.png)"
   ]
  },
  {
   "cell_type": "markdown",
   "metadata": {},
   "source": [
    "変数にデータを格納するためには、代入を行います。代入するには変数の後ろに、=を書き代入したい値を入れます。プログラミングでの＝は数学記号の等価と違うので注意してください。\n",
    "\n",
    "例えば、変数xに10を代入するのであれば\n",
    "\n",
    "```py\n",
    "x=10\n",
    "```\n",
    "\n",
    "とします。"
   ]
  },
  {
   "cell_type": "markdown",
   "metadata": {},
   "source": [
    "変数ははこのようなものだと書きましたが、入れるものによって箱が変わります。入れたものによって箱の形が変わるので動的型付けな言語と言われたりします。"
   ]
  },
  {
   "cell_type": "code",
   "execution_count": 2,
   "metadata": {},
   "outputs": [],
   "source": [
    "message = \"Hello\" #文字列\n",
    "x = 10    # 整数\n",
    "f = 10.5  # 実数"
   ]
  },
  {
   "cell_type": "markdown",
   "metadata": {},
   "source": [
    "#### 算術演算\n",
    "コンピュータは計算が得意です。足し算引き算などの四則演算に加えて、余りやべきの計算も用意されています。\n",
    "\n",
    "```py\n",
    "#足し算\n",
    "x + 1\n",
    "#引き算\n",
    "x - 1\n",
    "#掛け算\n",
    "x * 2\n",
    "#割り算\n",
    "x /2\n",
    "#余り\n",
    "x % 2\n",
    "#べき\n",
    "x**2\n",
    "```"
   ]
  },
  {
   "cell_type": "markdown",
   "metadata": {},
   "source": [
    "## サンプル問題"
   ]
  },
  {
   "cell_type": "markdown",
   "metadata": {},
   "source": [
    "1. 変数xを宣言し、変数xに数値10を代入してください"
   ]
  },
  {
   "cell_type": "code",
   "execution_count": 1,
   "metadata": {},
   "outputs": [
    {
     "name": "stdout",
     "output_type": "stream",
     "text": [
      "10\n"
     ]
    }
   ],
   "source": [
    "x = 10\n",
    "print(x)"
   ]
  },
  {
   "cell_type": "markdown",
   "metadata": {},
   "source": [
    "2. 変数xを2倍にしてください"
   ]
  },
  {
   "cell_type": "code",
   "execution_count": 8,
   "metadata": {},
   "outputs": [
    {
     "name": "stdout",
     "output_type": "stream",
     "text": [
      "10\n"
     ]
    }
   ],
   "source": [
    "x = x * 2\n",
    "print(x)"
   ]
  },
  {
   "cell_type": "markdown",
   "metadata": {},
   "source": [
    "3. 変数xと変数yを宣言し、xに5、yに3を代入してください"
   ]
  },
  {
   "cell_type": "code",
   "execution_count": 5,
   "metadata": {},
   "outputs": [
    {
     "name": "stdout",
     "output_type": "stream",
     "text": [
      "4\n",
      "3\n"
     ]
    }
   ],
   "source": [
    "x = 4\n",
    "y = 3\n",
    "print(x)\n",
    "print(y)"
   ]
  },
  {
   "cell_type": "markdown",
   "metadata": {},
   "source": [
    "4. 変数xと変数yを入れ替えてください"
   ]
  },
  {
   "cell_type": "code",
   "execution_count": 3,
   "metadata": {},
   "outputs": [
    {
     "name": "stdout",
     "output_type": "stream",
     "text": [
      "3\n",
      "5\n"
     ]
    }
   ],
   "source": [
    "x = 5\n",
    "y = 3\n",
    "\n",
    "t = x\n",
    "x = y\n",
    "y = t\n",
    "print(x)\n",
    "print(y)"
   ]
  },
  {
   "cell_type": "markdown",
   "metadata": {},
   "source": [
    "## 練習問題"
   ]
  },
  {
   "cell_type": "markdown",
   "metadata": {},
   "source": [
    "1. 変数fを宣言し、変数fに実数0.5を代入してください"
   ]
  },
  {
   "cell_type": "code",
   "execution_count": null,
   "metadata": {},
   "outputs": [],
   "source": []
  },
  {
   "cell_type": "markdown",
   "metadata": {},
   "source": [
    "2.変数messageを宣言しユーザからの入力を代入して、画面へ表示してください"
   ]
  },
  {
   "cell_type": "code",
   "execution_count": null,
   "metadata": {},
   "outputs": [],
   "source": []
  },
  {
   "cell_type": "markdown",
   "metadata": {},
   "source": [
    "3.変数xとyを宣言し、xに10、yに3を代入して、xとyの四則演算の結果を画面に表示してください"
   ]
  },
  {
   "cell_type": "code",
   "execution_count": null,
   "metadata": {},
   "outputs": [],
   "source": []
  }
 ],
 "metadata": {
  "interpreter": {
   "hash": "b61e492f4edc12fcdd793042a69ee36b175d316d3bef8d616000273c4189fc44"
  },
  "kernelspec": {
   "display_name": "Python 3.8.6 64-bit ('3.8.6')",
   "language": "python",
   "name": "python3"
  },
  "language_info": {
   "codemirror_mode": {
    "name": "ipython",
    "version": 3
   },
   "file_extension": ".py",
   "mimetype": "text/x-python",
   "name": "python",
   "nbconvert_exporter": "python",
   "pygments_lexer": "ipython3",
   "version": "3.8.9"
  },
  "orig_nbformat": 4
 },
 "nbformat": 4,
 "nbformat_minor": 2
}
