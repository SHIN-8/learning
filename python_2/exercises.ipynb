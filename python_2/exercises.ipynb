{
 "cells": [
  {
   "cell_type": "markdown",
   "metadata": {},
   "source": [
    "1. 標準入力から変数xに文字列を代入し、変数xが\"ABCDE\"と同じなら\"True\"、違うなら\"False\"と出力してください。"
   ]
  },
  {
   "cell_type": "code",
   "execution_count": 9,
   "metadata": {},
   "outputs": [
    {
     "name": "stdout",
     "output_type": "stream",
     "text": [
      "True\n"
     ]
    }
   ],
   "source": [
    "x = input('Please intput x')\n",
    "\n",
    "if x == \"ABCDE\":\n",
    "    print(\"True\")\n",
    "else:\n",
    "    print(\"False\")"
   ]
  },
  {
   "cell_type": "markdown",
   "metadata": {},
   "source": [
    "2. a = グー, b = チョキ, c = パー とします。\n",
    "   標準出力から変数xにa~cのいずれかを入力し、相手がグーを出した際のじゃんけんの勝敗を出力してください。\n",
    "   また、a~c以外が入力された場合、\"a,b,cいずれかを入力してください\"と出力してください。"
   ]
  },
  {
   "cell_type": "code",
   "execution_count": 14,
   "metadata": {},
   "outputs": [
    {
     "name": "stdout",
     "output_type": "stream",
     "text": [
      "a,b,cいずれかを入力してください\n"
     ]
    }
   ],
   "source": [
    "x = input('Please intput x(a = グー, b = チョキ, c = パー)')\n",
    "\n",
    "if x == \"a\":\n",
    "    print(\"あいこ\")\n",
    "elif x == \"b\":\n",
    "    print(\"勝ち\")\n",
    "elif x == \"c\":\n",
    "    print(\"負け\")\n",
    "else :\n",
    "    print(\"a,b,cいずれかを入力してください\")"
   ]
  },
  {
   "cell_type": "markdown",
   "metadata": {},
   "source": [
    "3. 標準入力から変数ageに整数を代入し、変数ageが20なら\"はたち\"、変数ageが21~29なら”20代”と出力してください。\n",
    "   それ以外は\"20代ではありません\"と出力してください。"
   ]
  },
  {
   "cell_type": "code",
   "execution_count": 32,
   "metadata": {},
   "outputs": [
    {
     "name": "stdout",
     "output_type": "stream",
     "text": [
      "20代\n"
     ]
    }
   ],
   "source": [
    "age = input('Please intput age')\n",
    "age = int(age)\n",
    "\n",
    "if age == 20:\n",
    "    print(\"はたち\")\n",
    "elif age > 21 and age < 30:\n",
    "    print(\"20代\")\n",
    "else :\n",
    "    print(\"20代ではありません\")"
   ]
  },
  {
   "cell_type": "markdown",
   "metadata": {},
   "source": [
    "4. 標準入力から変数xに0から100までの整数を代入し、変数xが50なら”50”、変数xが50以外なら\"50以外\"と出力してください。\n",
    "   100以上の整数が入力された際は\"0から100までの整数を代入してください\"と出力してください。"
   ]
  },
  {
   "cell_type": "code",
   "execution_count": 53,
   "metadata": {},
   "outputs": [
    {
     "name": "stdout",
     "output_type": "stream",
     "text": [
      "50\n"
     ]
    }
   ],
   "source": [
    "x = input('Please intput x')\n",
    "x = int(x)\n",
    "\n",
    "if x == 50:\n",
    "    print(\"50\")\n",
    "elif (x >= 0 and x < 50) or (x > 50 and x <= 100):\n",
    "    print(\"50以外\")\n",
    "else :\n",
    "    print(\"0から100までの整数を代入してください\")\n"
   ]
  }
 ],
 "metadata": {
  "interpreter": {
   "hash": "31f2aee4e71d21fbe5cf8b01ff0e069b9275f58929596ceb00d14d90e3e16cd6"
  },
  "kernelspec": {
   "display_name": "Python 3.8.9 64-bit",
   "language": "python",
   "name": "python3"
  },
  "language_info": {
   "codemirror_mode": {
    "name": "ipython",
    "version": 3
   },
   "file_extension": ".py",
   "mimetype": "text/x-python",
   "name": "python",
   "nbconvert_exporter": "python",
   "pygments_lexer": "ipython3",
   "version": "3.8.9"
  },
  "orig_nbformat": 4
 },
 "nbformat": 4,
 "nbformat_minor": 2
}
