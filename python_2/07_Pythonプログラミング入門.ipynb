{
 "cells": [
  {
   "cell_type": "markdown",
   "metadata": {},
   "source": [
    "# 第７回プログラミング入門"
   ]
  },
  {
   "cell_type": "markdown",
   "metadata": {},
   "source": [
    "## 目次\n",
    "- 条件分岐\n",
    "  - 条件式と分岐\n",
    "  - 条件式とif\n",
    "  - 条件式を組み立てる\n",
    "    - 比較演算\n",
    "    - 論理演算\n",
    "  - 条件式を満たさないときに処理をする\n",
    "  - 条件分岐を追加する"
   ]
  },
  {
   "cell_type": "markdown",
   "metadata": {},
   "source": [
    "## 条件分岐\n",
    "### 条件式と分岐\n",
    "コンピュータの処理は、複雑に見えますが基本的には次の3つの要素から構成されています。\n",
    "1. 順次\n",
    "1. 分岐\n",
    "1. 繰り返し\n",
    "\n",
    "ここまでは、順次のみでしたが、ここから分岐と繰り返しについて扱っていきます。\n",
    "\n",
    "### 条件式とif\n",
    "データを処理するとき、特定の条件を満たすときの処理とそうでない処理を分けることはよくあります。弊社で言えば、一般顧客の場合注文をするとポイントを付与しますが、それ以外の売掛顧客に対してはポイントを付与しない、といったケースです。\n",
    "\n",
    "これを擬似コード（プログラムのロジックを記述するための擬似的なコード）で表現すると、\n",
    "\n",
    "```py\n",
    "if 一般顧客の場合:\n",
    "    ポイントを付与\n",
    "```\n",
    "\n",
    "のようになります。\n",
    "\n",
    "この、分岐を指示する命令が __if文__ となります。また、ifに後続する条件を __条件式__ と呼びます。条件式を満たすときのみ、if以下のコードが実行されます。\n",
    "\n",
    "### 条件式を組み立てる\n",
    "条件式を組み立てるときは、 __比較演算子__ と __論理演算子__  を利用します。\n"
   ]
  },
  {
   "cell_type": "markdown",
   "metadata": {},
   "source": [
    "#### 比較演算子\n",
    "\n",
    "まず身近な比較演算子から見ていきます。 比較演算子は、比較したい2つの数の大小関係を比較するための演算子です。 大小関係を満たすときTrue、満たさないときFalseとなります。\n",
    "True/Falseのような真と偽や0と1で表される値を __ブーリアン(Boolean)__ と呼びます。\n",
    "\n",
    "|記号|意味|\n",
    "|:----|:----|\n",
    "|a > b| aがbより大きい|\n",
    "|a >= b| aがb以上|\n",
    "|a <= b| aがb以下|\n",
    "|a < b| aがbより小さい|\n",
    "|a == b| aとbは等しい|\n",
    "|a != b| atbは等しくない|\n",
    "\n",
    "比較演算子を利用するときは、 __数直線をイメージ__ すると良いと思います。 例えば、スコア60点以上のとき合格で、獲得したのが70点であれば\n",
    "\n",
    "![](./07_Pythonプログラミング入門.assets/line2.png)\n",
    "\n",
    "とするようなイメージです。"
   ]
  },
  {
   "cell_type": "code",
   "execution_count": 27,
   "metadata": {},
   "outputs": [
    {
     "name": "stdout",
     "output_type": "stream",
     "text": [
      "合格\n"
     ]
    }
   ],
   "source": [
    "a = 60 \n",
    "b = 70\n",
    "if a <= b:\n",
    "  print(\"合格\")"
   ]
  },
  {
   "cell_type": "markdown",
   "metadata": {},
   "source": [
    "\n",
    "#### 論理演算子\n",
    "\n",
    "論理演算子は、複数の条件を組み合わせる演算子です。単一の条件式の結果は、ブーリアンですが、このブーリアン同士の計算を と呼びます。論理演算子には、次のようなものがあります。\n",
    "\n",
    "|記号|意味|\n",
    "|:----|:----|\n",
    "|a and b| 論理積、aとbをともに満たすなら True|\n",
    "|a or b| 論理和、aまたはbのどちらか一方を満たすなら、True|\n",
    "|not a| 否定、aではない|"
   ]
  },
  {
   "cell_type": "markdown",
   "metadata": {},
   "source": [
    "遊園地のジェットコースターなどには、「10歳以上で身長は120cm以上の方のみお乗りいただけます」のように、決まった条件で利用者を制限している場合があります。この制限を、Pythonで書いてみましょう。\n",
    "\n",
    "この条件を分解すると、\n",
    "\n",
    "年齢が 10 またはそれより大きい\n",
    "身長が 120 またはそれより大きい\n",
    "の２つの条件を満たせば、乗っても良いということになります。\n",
    "\n",
    "年齢を示すデータを変数 age、身長は変数 height に代入されているとすると、年齢のチェックは <= 記号を使って、次のように書けます。"
   ]
  },
  {
   "cell_type": "code",
   "execution_count": 28,
   "metadata": {},
   "outputs": [
    {
     "data": {
      "text/plain": [
       "True"
      ]
     },
     "execution_count": 28,
     "metadata": {},
     "output_type": "execute_result"
    }
   ],
   "source": [
    "age = 13\n",
    "10 <= age"
   ]
  },
  {
   "cell_type": "code",
   "execution_count": 29,
   "metadata": {},
   "outputs": [
    {
     "data": {
      "text/plain": [
       "True"
      ]
     },
     "execution_count": 29,
     "metadata": {},
     "output_type": "execute_result"
    }
   ],
   "source": [
    "height = 130\n",
    "120 <= height"
   ]
  },
  {
   "cell_type": "markdown",
   "metadata": {},
   "source": [
    "この２つの条件が同時に真なら、搭乗可能ということになります。これをプログラムで書いてみます。"
   ]
  },
  {
   "cell_type": "code",
   "execution_count": 30,
   "metadata": {},
   "outputs": [],
   "source": [
    "age = 11   # 例として、11歳 身長130cmとする\n",
    "height = 110\n",
    "\n",
    "if (10 <= age) and (120 <= height):\n",
    "    print(\"お乗りいただけます\")"
   ]
  },
  {
   "cell_type": "markdown",
   "metadata": {},
   "source": [
    "### 条件以外のときに処理を実行する\n",
    "先程のジェットコースターの例を、「10歳以上で身長は120cm以上の方のみお乗りいただけます」ではなく、10歳未満または120cm未満のとき、ご遠慮くださいと表示するように改修してみましょう。\n",
    "\n",
    "```py\n",
    "if (10 <= age) and (120 <= height):\n",
    "    print(\"お乗りいただけます\")\n",
    "```\n",
    "\n",
    "の条件以外のときに、「ご遠慮ください」と出力するようにするには、elseキーワードを追加します。"
   ]
  },
  {
   "cell_type": "code",
   "execution_count": 31,
   "metadata": {},
   "outputs": [
    {
     "name": "stdout",
     "output_type": "stream",
     "text": [
      "ご遠慮ください\n"
     ]
    }
   ],
   "source": [
    "if (10 <= age) and (120 <= height):\n",
    "    print(\"お乗りいただけます\")\n",
    "else:\n",
    "    print(\"ご遠慮ください\")"
   ]
  },
  {
   "cell_type": "markdown",
   "metadata": {},
   "source": [
    "### 条件分岐を追加する\n",
    " 例えば、スコアが90点以上のときA判定、スコアが75点以上のときB判定、スコアが60点以上のときC判定、スコアが60点未満のときD判定と出力するプログラムを考えます。"
   ]
  },
  {
   "cell_type": "code",
   "execution_count": 32,
   "metadata": {},
   "outputs": [
    {
     "name": "stdout",
     "output_type": "stream",
     "text": [
      "B判定です。\n"
     ]
    }
   ],
   "source": [
    "score = 75\n",
    "\n",
    "if 90 <= score:\n",
    "    print(\"A判定です。\")\n",
    "elif 75 <= score:\n",
    "    print(\"B判定です。\")\n",
    "elif 60 <= score:\n",
    "    print(\"C判定です。\")\n",
    "else:\n",
    "    print(\"D判定です。\")"
   ]
  },
  {
   "cell_type": "markdown",
   "metadata": {},
   "source": [
    "### サンプル問題"
   ]
  },
  {
   "cell_type": "markdown",
   "metadata": {},
   "source": [
    "1. 標準入力から変数aと変数bに整数を代入し，aとbのうち大きい方を出力してください．"
   ]
  },
  {
   "cell_type": "code",
   "execution_count": 27,
   "metadata": {},
   "outputs": [
    {
     "name": "stdout",
     "output_type": "stream",
     "text": [
      "<class 'int'>\n",
      "5\n"
     ]
    }
   ],
   "source": [
    "a = input()\n",
    "a = float(a)\n",
    "a = int(a)\n",
    "print(type(a))\n",
    "print(a)\n"
   ]
  },
  {
   "cell_type": "markdown",
   "metadata": {},
   "source": [
    "2. 標準入力から変数aに整数を代入し，aが偶数ならTrue，そうでなければFalseを出力してください．"
   ]
  },
  {
   "cell_type": "code",
   "execution_count": 5,
   "metadata": {},
   "outputs": [
    {
     "name": "stdout",
     "output_type": "stream",
     "text": [
      "True\n"
     ]
    }
   ],
   "source": [
    "a = input('Please intput a')\n",
    "a = int(a)\n",
    "if a % 2 == 0:\n",
    "    print(True)\n",
    "else:\n",
    "    print(False)"
   ]
  },
  {
   "cell_type": "markdown",
   "metadata": {},
   "source": [
    "3. 標準入力から変数aに整数を代入し、変数aが3の倍数かつ5の倍数かどうかを判定してください。3の倍数かつ5の倍数のとき、変数aは3と5の最小公倍数ですと出力してください。"
   ]
  },
  {
   "cell_type": "code",
   "execution_count": null,
   "metadata": {},
   "outputs": [
    {
     "name": "stdout",
     "output_type": "stream",
     "text": [
      "変数aは3と5の最小公倍数です。\n"
     ]
    }
   ],
   "source": [
    "a = input('Please intput a')\n",
    "a = int(a)\n",
    "if a % 3 == 0 and a % 5 == 0:\n",
    "    print(\"変数aは3と5の最小公倍数です。\")\n"
   ]
  },
  {
   "cell_type": "markdown",
   "metadata": {},
   "source": [
    "### 練習問題\n",
    "\n",
    "1. 標準入力から変数aと変数bに整数を代入し，aとbのうち小さい方を出力してください．\n",
    "1. 標準入力から変数aと変数bに整数を代入し、変数aと変数bの関係を出力してください。\n",
    "   変数aが変数bより大きいとき a > b\n",
    "   変数aが変数aと等しいとき  a == b\n",
    "   変数aが変数bより小さいとき a < b\n",
    "1. 標準入力から変数aに整数を代入し．変数aが奇数かどうか判定をし、aが奇数であればTrue、aが偶数であればFalseと出力してください。\n",
    "1. 標準入力から変数yearに整数で西暦を代入し，変数yearがうるう年かどうか判定してください．変数yearがうるう年であれば標準出力にうるう年ですと出力してください、そうでなければ平年と出力してください。\n",
    "   1. 西暦の年号が4で割り切れる年はうるう年\n",
    "   1. 100で割り切れる年は平年\n",
    "   1. 400で割り切れる年はうるう年"
   ]
  }
 ],
 "metadata": {
  "interpreter": {
   "hash": "b61e492f4edc12fcdd793042a69ee36b175d316d3bef8d616000273c4189fc44"
  },
  "kernelspec": {
   "display_name": "Python 3.8.6 64-bit ('3.8.6')",
   "language": "python",
   "name": "python3"
  },
  "language_info": {
   "codemirror_mode": {
    "name": "ipython",
    "version": 3
   },
   "file_extension": ".py",
   "mimetype": "text/x-python",
   "name": "python",
   "nbconvert_exporter": "python",
   "pygments_lexer": "ipython3",
   "version": "3.8.9"
  },
  "orig_nbformat": 4
 },
 "nbformat": 4,
 "nbformat_minor": 2
}
