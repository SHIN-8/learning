{
 "cells": [
  {
   "cell_type": "markdown",
   "metadata": {},
   "source": [
    "# プログラミング入門6~7回目 復習回"
   ]
  },
  {
   "cell_type": "markdown",
   "metadata": {},
   "source": [
    "## 第6回プログラミング入門の要点\n",
    "###  Python言語の主な構文\n",
    "\n",
    "```py\n",
    "def echo(message):\n",
    "    \"\"\"\n",
    "    メッセージを出力します\n",
    "    \n",
    "    Args:\n",
    "        message: メッセージ文字列\n",
    "\n",
    "    Returns:\n",
    "        None\n",
    "\n",
    "    Raises:\n",
    "        No Throw any Exceptions\n",
    "    \n",
    "    \"\"\"\n",
    "    print(message)\n",
    "\n",
    "#コマンドラインから実行するときのみ実行します。\n",
    "if __name__ == '__main__':\n",
    "    message = input('Please input a message')\n",
    "    count = 0\n",
    "    while (count < 3):\n",
    "        echo(message)\n",
    "        count++\n",
    "```\n",
    "  1. 変数\n",
    "  1. DocString\n",
    "  1. コメント\n",
    "  1. 条件分岐\n",
    "  1. 繰り返し\n",
    "  1. 関数定義\n",
    "### 変数はデータを格納する領域\n",
    "   1. 格納できるデータには整数・実数・文字列・オブジェクトなどがあります。\n",
    "\n",
    "```py\n",
    "num = 10      #整数\n",
    "real = 10.5   #実数\n",
    "text = \"text\"     #文字列\n",
    "```\n",
    "\n",
    "## 標準入力と標準出力\n",
    "- 標準入力から入力を受け取るにはinput関数を使います。\n",
    "- 標準出力に結果を出力するときはprint関数を使います。"
   ]
  },
  {
   "cell_type": "markdown",
   "metadata": {},
   "source": [
    "## 第7回プログラミング入門の要点\n",
    "###  条件分岐\n",
    "- 条件に応じて処理を分けたいときはif文と条件式を使います。\n",
    "- 条件式は、論理演算子(and or not)と比較演算子（> >= <= < == !=)を組み合わせて記述します。\n",
    "- 条件に合わないときを記述するには、elseを使います\n",
    "- 条件分岐を増やすしたいときは、ifの下に elif を使います。"
   ]
  },
  {
   "cell_type": "markdown",
   "metadata": {},
   "source": [
    "## 練習問題 - 変数"
   ]
  },
  {
   "cell_type": "markdown",
   "metadata": {},
   "source": [
    "1. 変数appleに\"りんご\"を代入し、標準出力へ表示させてください。\n",
    "2. 変数xに100、変数yに150、をそれぞれ代入し、標準出力へ表示させてください。\n",
    "3. 変数aと変数bに標準入力から整数を受け取って、aをbで割った時の余りを、標準出力へ表示してください\n",
    "4. 変数aと変数bに標準入力から整数を受け取って、aのb乗を、標準出力へ表示してください\n",
    "5. みかんは1個100円、バナナは1個50円、パイナップルは1個500円とします。Aさんは、みかん3個とバナナ2個、パイナップルを2個買いました。Bさんは、みかん4個とバナナ5個買いました。AさんとBさんのそれぞれ合計金額を、標準出力へ表示してください。"
   ]
  },
  {
   "cell_type": "markdown",
   "metadata": {},
   "source": [
    "## 練習問題 - 条件分岐"
   ]
  },
  {
   "cell_type": "markdown",
   "metadata": {},
   "source": [
    "1. 標準入力から変数xに文字列を代入し、変数xが\"ABCDE\"と同じなら\"True\"、違うなら\"False\"と出力してください。\n",
    "\n",
    "2. a = グー, b = チョキ, c = パー とします。\n",
    "   標準出力から変数xにa~cのいずれかを入力し、相手がグーを出した際のじゃんけんの勝敗を出力してください。\n",
    "   また、a~c以外が入力された場合、\"a,b,cいずれかを入力してください\"と出力してください。\n",
    "\n",
    "3. 標準入力から変数ageに整数を代入し、変数ageが20なら\"はたち\"、変数ageが21~29なら”20代”と出力してください。\n",
    "   それ以外は\"20代ではありません\"と出力してください。\n",
    "\n",
    "4. 標準入力から変数xに0から100までの整数を代入し、変数xが50なら”50”、変数xが50以外なら\"50以外\"と出力してください。100以上の整数が入力された際は\"0から100までの整数を代入してください\"と出力してください。\n",
    "\n"
   ]
  }
 ],
 "metadata": {
  "interpreter": {
   "hash": "b61e492f4edc12fcdd793042a69ee36b175d316d3bef8d616000273c4189fc44"
  },
  "kernelspec": {
   "display_name": "Python 3.8.6 64-bit ('3.8.6')",
   "language": "python",
   "name": "python3"
  },
  "language_info": {
   "codemirror_mode": {
    "name": "ipython",
    "version": 3
   },
   "file_extension": ".py",
   "mimetype": "text/x-python",
   "name": "python",
   "nbconvert_exporter": "python",
   "pygments_lexer": "ipython3",
   "version": "3.8.6"
  },
  "orig_nbformat": 4
 },
 "nbformat": 4,
 "nbformat_minor": 2
}
